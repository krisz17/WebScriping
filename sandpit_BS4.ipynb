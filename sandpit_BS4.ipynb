{
 "cells": [
  {
   "cell_type": "code",
   "execution_count": 1,
   "id": "e853450b-31a5-4bde-b5fb-46685763d667",
   "metadata": {},
   "outputs": [],
   "source": [
    "import requests\n",
    "from bs4 import BeautifulSoup\n",
    "\n",
    "URL = \"https://www.interviewbit.com/python-interview-questions/\"\n",
    "page = requests.get(URL)\n",
    "\n",
    "soup = BeautifulSoup(page.content, \"html.parser\")"
   ]
  },
  {
   "cell_type": "code",
   "execution_count": 2,
   "id": "02dbe152-214f-4504-8aae-2735ff6586e0",
   "metadata": {},
   "outputs": [],
   "source": [
    "#levels = [\"freshers\", \"experienced\", \"python-opps\", \"python-pandas\", \n",
    "#          \"python-numpy\", \"python-libraries\",\"python-programs\"]\n",
    "\n",
    "#for level in levels:\n",
    "results = soup.find(id=\"freshers\")"
   ]
  },
  {
   "cell_type": "code",
   "execution_count": null,
   "id": "b855b8a7-df27-40de-964f-a23328297279",
   "metadata": {},
   "outputs": [],
   "source": [
    "# w ten sposób możemy wyświetlkić sformatowany kod który właśnie pobraliśmy ze stronki\n",
    "print(results.prettify())"
   ]
  },
  {
   "cell_type": "code",
   "execution_count": 4,
   "id": "5d63c40c-09e5-4d03-9bdc-86c27c4052f4",
   "metadata": {},
   "outputs": [
    {
     "data": {
      "text/plain": [
       "18"
      ]
     },
     "execution_count": 4,
     "metadata": {},
     "output_type": "execute_result"
    }
   ],
   "source": [
    "query_elements = results.find_all(\"section\")\n",
    "len(query_elements)\n",
    "# każdy element section odpowiada jednemu pytaniu oraz jednej odpowiedzi. Trzeba więc poiterować \n",
    "# bo odpowiedzi są rozdzielone na kilka segmentów"
   ]
  },
  {
   "cell_type": "code",
   "execution_count": null,
   "id": "79a8f594-e882-4efc-8155-59b0744578a7",
   "metadata": {},
   "outputs": [],
   "source": [
    "for query_element in query_elements:\n",
    "    print(query_element, end=\"\\n\"*2)"
   ]
  },
  {
   "cell_type": "code",
   "execution_count": null,
   "id": "f9d8256e-d448-4a6a-8d7c-3c490a2906d9",
   "metadata": {},
   "outputs": [],
   "source": [
    "print(query_elements[1].prettify())"
   ]
  },
  {
   "cell_type": "code",
   "execution_count": 21,
   "id": "0c465029-f137-498a-ba9e-773d7e592e3a",
   "metadata": {},
   "outputs": [],
   "source": [
    "answers = []\n",
    "questions = []\n",
    "outp = \"\"\n",
    "\n",
    "for query_element in query_elements:\n",
    "    for tag in query_element.find_all('h3'):\n",
    "        outp = outp + tag.text.rstrip()\n",
    "        outp = outp + \" \"\n",
    "    questions.append(outp.rstrip())\n",
    "    outp =\"\"\n",
    "    for tag in query_element.find_all('p'):\n",
    "        outp = outp + str(tag.text.rstrip())\n",
    "        outp = outp + \" \"\n",
    "    answers.append(outp.rstrip())\n",
    "    outp =\"\"\n",
    "    \n"
   ]
  },
  {
   "cell_type": "code",
   "execution_count": 25,
   "id": "f036e8d2",
   "metadata": {},
   "outputs": [
    {
     "name": "stdout",
     "output_type": "stream",
     "text": [
      "Python is a high-level, interpreted, general-purpose programming language. Being a general-purpose language, it can be used to build almost any type of application with the right tools/libraries. Additionally, python supports objects, modules, threads, exception-handling, and automatic memory management which help in modelling real-world problems and building applications to solve these problems. Benefits of using Python:\n",
      "\n",
      "Before we understand a dynamically typed language, we should learn about what typing is. Typing refers to type-checking in programming languages. In a strongly-typed language, such as Python, \"1\" + 2 will result in a type error since these languages don't allow for \"type-coercion\" (implicit conversion of data types). On the other hand, a weakly-typed language, such as Javascript, will simply output \"12\" as result. Type-checking can be done at two stages - Python is an interpreted language, executes each statement line by line and thus type-checking is done on the fly, during execution. Hence, Python is a Dynamically Typed Language.\n",
      "\n",
      "An Interpreted language executes its statements line by line. Languages such as Python, Javascript, R, PHP, and Ruby are prime examples of Interpreted languages. Programs written in an interpreted language runs directly from the source code, with no intermediary compilation step.\n",
      "\n",
      "PEP stands for Python Enhancement Proposal. A PEP is an official design document providing information to the Python community, or describing a new feature for Python or its processes. PEP 8 is especially important since it documents the style guidelines for Python Code. Apparently contributing to the Python open-source community requires you to follow these style guidelines sincerely and strictly.\n",
      "\n",
      "Every object in Python functions within a scope. A scope is a block of code where an object in Python remains relevant. Namespaces uniquely identify all the objects inside a program. However, these namespaces also have a scope defined for them where you could use their objects without any prefix. A few examples of scope created during code execution in Python are as follows: Note: Local scope objects can be synced with global scope objects using keywords such as global.\n",
      "\n",
      "Lists and Tuples are both sequence data types that can store a collection of objects in Python. The objects stored in both sequences can have different data types. Lists are represented with square brackets ['sara', 6, 0.19], while tuples are represented with parantheses ('ansh', 5, 0.97).But what is the real difference between the two? The key difference between the two is that while lists are mutable, tuples on the other hand are immutable objects. This means that lists can be modified, appended or sliced on the go but tuples remain constant and cannot be modified in any manner. You can run the following example on Python IDLE to confirm the difference:\n",
      "\n",
      "There are several built-in data types in Python. Although, Python doesn't require data types to be defined explicitly during variable declarations type errors are likely to occur if the knowledge of data types and their compatibility with each other are neglected. Python provides type() and isinstance() functions to check the type of these variables. These data types can be grouped into the following categories- Note: The standard library also includes fractions to store rational numbers and decimal to store floating-point numbers with user-defined precision. Note: The standard library also includes additional types for processing:1. Binary data such as bytearray bytes memoryview , and2. Text strings such as str. A mapping object can map hashable values to random objects in Python. Mappings objects are mutable and there is currently only one standard mapping type, the dictionary. Note: set is mutable and thus cannot be used as key for a dictionary. On the other hand, frozenset is immutable and thus, hashable, and can be used as a dictionary key or as an element of another set.\n",
      "\n",
      "The pass keyword represents a null operation in Python. It is generally used for the purpose of filling up empty blocks of code which may execute during runtime but has yet to be written. Without the pass statement in the following code, we may run into some errors during code execution.\n",
      "\n",
      "Python packages and Python modules are two mechanisms that allow for modular programming in Python. Modularizing has several advantages - Modules, in general, are simply Python files with a .py extension and can have a set of functions, classes, or variables defined and implemented. They can be imported and initialized once using the import statement. If partial functionality is needed, import the requisite classes or functions using from foo import bar. Packages allow for hierarchial structuring of the module namespace using dot notation. As, modules help avoid clashes between global variable names, in a similar manner, packages help avoid clashes between module names.Creating a package is easy since it makes use of the system's inherent file structure. So just stuff the modules into a folder and there you have it, the folder name as the package name. Importing a module or its contents from this package requires the package name as prefix to the module name joined by a dot. Note: You can technically import the package as well, but alas, it doesn't import the modules within the package to the local namespace, thus, it is practically useless.\n",
      "\n",
      "\n",
      "\n",
      "Self is used to represent the instance of the class. With this keyword, you can access the attributes and methods of the class in python. It binds the attributes with the given arguments. self is used in different places and often thought to be a keyword. But unlike in C++, self is not a keyword in Python.\n",
      "\n",
      "__init__ is a contructor method in Python and is automatically called to allocate memory when a new object/instance is created. All classes have a __init__ method associated with them. It helps in distinguishing methods and attributes of a class from local variables.\n",
      "\n",
      "\n",
      "\n",
      "\n",
      "\n",
      "\n",
      "\n",
      "\n",
      "\n",
      "\n",
      "\n",
      "\n",
      "\n"
     ]
    }
   ],
   "source": [
    "for ans in answers:\n",
    "    print(ans, end=\"\\n\"*2)"
   ]
  },
  {
   "cell_type": "code",
   "execution_count": 19,
   "id": "0d5113af",
   "metadata": {},
   "outputs": [
    {
     "name": "stdout",
     "output_type": "stream",
     "text": [
      "abc efg\n"
     ]
    }
   ],
   "source": [
    "outp = \"\"\n",
    "outp = outp + \"abc\"\n",
    "outp = outp + \" efg\"\n",
    "print(outp)"
   ]
  },
  {
   "cell_type": "code",
   "execution_count": 13,
   "id": "d366ddf5",
   "metadata": {},
   "outputs": [
    {
     "data": {
      "text/plain": [
       "'03'"
      ]
     },
     "execution_count": 13,
     "metadata": {},
     "output_type": "execute_result"
    }
   ],
   "source": [
    "x = '0'\n",
    "\n",
    "x = x + '3'\n",
    "x"
   ]
  },
  {
   "cell_type": "code",
   "execution_count": 10,
   "id": "c5e7905f-4bdc-445f-8683-958bdc45671e",
   "metadata": {},
   "outputs": [
    {
     "name": "stdout",
     "output_type": "stream",
     "text": [
      "Python is a high-level, interpreted, general-purpose programming language. Being a general-purpose language, it can be used to build almost any type of application with the right tools/libraries. Additionally, python supports objects, modules, threads, exception-handling, and automatic memory management which help in modelling real-world problems and building applications to solve these problems.\n",
      "\n",
      "Benefits of using Python:\n",
      "\n",
      "Before we understand a dynamically typed language, we should learn about what typing is. Typing refers to type-checking in programming languages. In a strongly-typed language, such as Python, \"1\" + 2 will result in a type error since these languages don't allow for \"type-coercion\" (implicit conversion of data types). On the other hand, a weakly-typed language, such as Javascript, will simply output \"12\" as result.\n",
      "\n",
      "Type-checking can be done at two stages -\n",
      "\n",
      "Python is an interpreted language, executes each statement line by line and thus type-checking is done on the fly, during execution. Hence, Python is a Dynamically Typed Language.\n",
      "\n",
      "An Interpreted language executes its statements line by line. Languages such as Python, Javascript, R, PHP, and Ruby are prime examples of Interpreted languages. Programs written in an interpreted language runs directly from the source code, with no intermediary compilation step.\n",
      "\n",
      "PEP stands for Python Enhancement Proposal. A PEP is an official design document providing information to the Python community, or describing a new feature for Python or its processes. PEP 8 is especially important since it documents the style guidelines for Python Code. Apparently contributing to the Python open-source community requires you to follow these style guidelines sincerely and strictly.\n",
      "\n",
      "Every object in Python functions within a scope. A scope is a block of code where an object in Python remains relevant. Namespaces uniquely identify all the objects inside a program. However, these namespaces also have a scope defined for them where you could use their objects without any prefix. A few examples of scope created during code execution in Python are as follows:\n",
      "\n",
      "Note: Local scope objects can be synced with global scope objects using keywords such as global.\n",
      "\n",
      "Lists and Tuples are both sequence data types that can store a collection of objects in Python. The objects stored in both sequences can have different data types. Lists are represented with square brackets ['sara', 6, 0.19], while tuples are represented with parantheses ('ansh', 5, 0.97).But what is the real difference between the two? The key difference between the two is that while lists are mutable, tuples on the other hand are immutable objects. This means that lists can be modified, appended or sliced on the go but tuples remain constant and cannot be modified in any manner. You can run the following example on Python IDLE to confirm the difference:\n",
      "\n",
      "There are several built-in data types in Python. Although, Python doesn't require data types to be defined explicitly during variable declarations type errors are likely to occur if the knowledge of data types and their compatibility with each other are neglected. Python provides type() and isinstance() functions to check the type of these variables. These data types can be grouped into the following categories-\n",
      "\n",
      "Note: The standard library also includes fractions to store rational numbers and decimal to store floating-point numbers with user-defined precision.\n",
      "\n",
      "Note: The standard library also includes additional types for processing:1. Binary data such as bytearray bytes memoryview , and2. Text strings such as str.\n",
      "\n",
      "A mapping object can map hashable values to random objects in Python. Mappings objects are mutable and there is currently only one standard mapping type, the dictionary.\n",
      "\n",
      "Note: set is mutable and thus cannot be used as key for a dictionary. On the other hand, frozenset is immutable and thus, hashable, and can be used as a dictionary key or as an element of another set.\n",
      "\n",
      "The pass keyword represents a null operation in Python. It is generally used for the purpose of filling up empty blocks of code which may execute during runtime but has yet to be written. Without the pass statement in the following code, we may run into some errors during code execution.\n",
      "\n",
      "Python packages and Python modules are two mechanisms that allow for modular programming in Python. Modularizing has several advantages -\n",
      "\n",
      "Modules, in general, are simply Python files with a .py extension and can have a set of functions, classes, or variables defined and implemented. They can be imported and initialized once using the import statement. If partial functionality is needed, import the requisite classes or functions using from foo import bar.\n",
      "\n",
      "Packages allow for hierarchial structuring of the module namespace using dot notation. As, modules help avoid clashes between global variable names, in a similar manner, packages help avoid clashes between module names.Creating a package is easy since it makes use of the system's inherent file structure. So just stuff the modules into a folder and there you have it, the folder name as the package name. Importing a module or its contents from this package requires the package name as prefix to the module name joined by a dot.\n",
      "\n",
      "Note: You can technically import the package as well, but alas, it doesn't import the modules within the package to the local namespace, thus, it is practically useless.\n",
      "\n",
      "Self is used to represent the instance of the class. With this keyword, you can access the attributes and methods of the class in python. It binds the attributes with the given arguments. self is used in different places and often thought to be a keyword. But unlike in C++, self is not a keyword in Python.\n",
      "\n",
      "__init__ is a contructor method in Python and is automatically called to allocate memory when a new object/instance is created. All classes have a __init__ method associated with them. It helps in distinguishing methods and attributes of a class from local variables.\n",
      "\n"
     ]
    }
   ],
   "source": [
    "for query_element in query_elements:\n",
    "    for tag in query_element.find_all('p'):\n",
    "        print(tag.text, end=\"\\n\"*2)"
   ]
  }
 ],
 "metadata": {
  "kernelspec": {
   "display_name": "generative",
   "language": "python",
   "name": "python3"
  },
  "language_info": {
   "codemirror_mode": {
    "name": "ipython",
    "version": 3
   },
   "file_extension": ".py",
   "mimetype": "text/x-python",
   "name": "python",
   "nbconvert_exporter": "python",
   "pygments_lexer": "ipython3",
   "version": "3.6.13"
  },
  "vscode": {
   "interpreter": {
    "hash": "5cd28ea3f6dc9909ceb0ba371511a578fd051ab7a0ef3548d34d5499435a9202"
   }
  }
 },
 "nbformat": 4,
 "nbformat_minor": 5
}
