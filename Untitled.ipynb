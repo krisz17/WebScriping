{
 "cells": [
  {
   "cell_type": "code",
   "execution_count": 1,
   "id": "e853450b-31a5-4bde-b5fb-46685763d667",
   "metadata": {},
   "outputs": [],
   "source": [
    "import requests\n",
    "from bs4 import BeautifulSoup\n",
    "\n",
    "URL = \"https://www.interviewbit.com/python-interview-questions/\"\n",
    "page = requests.get(URL)\n",
    "\n",
    "soup = BeautifulSoup(page.content, \"html.parser\")"
   ]
  },
  {
   "cell_type": "code",
   "execution_count": 20,
   "id": "02dbe152-214f-4504-8aae-2735ff6586e0",
   "metadata": {},
   "outputs": [],
   "source": [
    "results = soup.find(id=\"freshers\")"
   ]
  },
  {
   "cell_type": "code",
   "execution_count": null,
   "id": "b855b8a7-df27-40de-964f-a23328297279",
   "metadata": {},
   "outputs": [],
   "source": [
    "# w ten sposób możemy wyświetlkić sformatowany kod który właśnie pobraliśmy ze stronki\n",
    "print(results.prettify())"
   ]
  },
  {
   "cell_type": "code",
   "execution_count": 22,
   "id": "5d63c40c-09e5-4d03-9bdc-86c27c4052f4",
   "metadata": {},
   "outputs": [
    {
     "data": {
      "text/plain": [
       "18"
      ]
     },
     "execution_count": 22,
     "metadata": {},
     "output_type": "execute_result"
    }
   ],
   "source": [
    "query_elements = results.find_all(\"section\")\n",
    "len(query_elements)"
   ]
  },
  {
   "cell_type": "code",
   "execution_count": null,
   "id": "79a8f594-e882-4efc-8155-59b0744578a7",
   "metadata": {},
   "outputs": [],
   "source": [
    "for query_element in query_elements:\n",
    "    print(query_element, end=\"\\n\"*2)"
   ]
  },
  {
   "cell_type": "code",
   "execution_count": 30,
   "id": "f9d8256e-d448-4a6a-8d7c-3c490a2906d9",
   "metadata": {},
   "outputs": [
    {
     "name": "stdout",
     "output_type": "stream",
     "text": [
      "<section class=\"ibpage-article-header\" id=\"what-is-a-dynamically-typed-language\">\n",
      " <h3>\n",
      "  2. What is a dynamically typed language?\n",
      " </h3>\n",
      " <article class=\"ibpage-article\">\n",
      "  <p>\n",
      "   Before we understand a dynamically typed language, we should learn about what typing is.\n",
      "   <strong>\n",
      "    Typing\n",
      "   </strong>\n",
      "   refers to type-checking in programming languages. In a\n",
      "   <strong>\n",
      "    strongly-typed\n",
      "   </strong>\n",
      "   language, such as Python,\n",
      "   <strong>\n",
      "    \"1\" + 2\n",
      "   </strong>\n",
      "   will result in a type error since these languages don't allow for \"type-coercion\" (implicit conversion of data types). On the other hand, a\n",
      "   <strong>\n",
      "    weakly-typed\n",
      "   </strong>\n",
      "   language, such as Javascript, will simply output\n",
      "   <strong>\n",
      "    \"12\"\n",
      "   </strong>\n",
      "   as result.\n",
      "  </p>\n",
      "  <p>\n",
      "   Type-checking can be done at two stages -\n",
      "  </p>\n",
      "  <ul>\n",
      "   <li>\n",
      "    <strong>\n",
      "     Static\n",
      "    </strong>\n",
      "    - Data Types are checked before execution.\n",
      "   </li>\n",
      "   <li>\n",
      "    <strong>\n",
      "     Dynamic\n",
      "    </strong>\n",
      "    - Data Types are checked during execution.\n",
      "   </li>\n",
      "  </ul>\n",
      "  <p>\n",
      "   Python is an interpreted language, executes each statement line by line and thus type-checking is done on the fly, during execution. Hence, Python is a Dynamically Typed Language.\n",
      "  </p>\n",
      "  <figure class=\"image image_resized\" style=\"width:75%;\">\n",
      "   <img class=\"lazy-elem\" data-src=\"https://s3.ap-south-1.amazonaws.com/myinterviewtrainer-domestic/public_assets/assets/000/000/924/original/dynamically_typed_language.jpg?1629972224\"/>\n",
      "  </figure>\n",
      " </article>\n",
      "</section>\n",
      "\n"
     ]
    }
   ],
   "source": [
    "print(query_elements[1].prettify())"
   ]
  },
  {
   "cell_type": "code",
   "execution_count": 36,
   "id": "0c465029-f137-498a-ba9e-773d7e592e3a",
   "metadata": {},
   "outputs": [
    {
     "name": "stdout",
     "output_type": "stream",
     "text": [
      "<h3>1. What is Python? What are the benefits of using Python</h3>\n",
      "<h3>2. What is a dynamically typed language?</h3>\n",
      "<h3>3. What is an Interpreted language?</h3>\n",
      "<h3>4. What is PEP 8 and why is it important?</h3>\n",
      "<h3>5. What is Scope in Python?</h3>\n",
      "<h3>6. What are lists and tuples? What is the key difference between the two?</h3>\n",
      "<h3>7. What are the common built-in data types in Python?</h3>\n",
      "<h3>8. What is pass in Python?</h3>\n",
      "<h3>9. What are modules and packages in Python?</h3>\n",
      "<h3>10. What are global, protected and private attributes in Python?</h3>\n",
      "<h3>11. What is the use of self in Python?</h3>\n",
      "<h3>12.  What is __init__?</h3>\n",
      "<h3>13. What is break, continue and pass in Python?</h3>\n",
      "<h3>14. What are unit tests in Python?</h3>\n",
      "<h3>15. What is docstring in Python?</h3>\n",
      "<h3>16. What is slicing in Python?</h3>\n",
      "<h3>17. Explain how can you make a Python Script executable on Unix?</h3>\n",
      "<h3>18. What is the difference between Python Arrays and lists?</h3>\n"
     ]
    }
   ],
   "source": [
    "for query_element in query_elements:\n",
    "    for tag in query_element.find_all('h3'):\n",
    "        print(tag)\n",
    "\n"
   ]
  },
  {
   "cell_type": "code",
   "execution_count": 44,
   "id": "c5e7905f-4bdc-445f-8683-958bdc45671e",
   "metadata": {},
   "outputs": [
    {
     "name": "stdout",
     "output_type": "stream",
     "text": [
      "<p>Python is a high-level, interpreted, general-purpose programming language. Being a general-purpose language, it can be used to build almost any type of application with the right tools/libraries. Additionally, python supports objects, modules, threads, exception-handling, and automatic memory management which help in modelling real-world problems and building applications to solve these problems.</p>\n",
      "<p><strong>Benefits of using Python:</strong></p>\n",
      "<p>Before we understand a dynamically typed language, we should learn about what typing is. <strong>Typing</strong> refers to type-checking in programming languages. In a <strong>strongly-typed</strong> language, such as Python, <strong>\"1\" + 2</strong> will result in a type error since these languages don't allow for \"type-coercion\" (implicit conversion of data types). On the other hand, a <strong>weakly-typed</strong> language, such as Javascript, will simply output <strong>\"12\"</strong> as result.</p>\n",
      "<p>Type-checking can be done at two stages -</p>\n",
      "<p>Python is an interpreted language, executes each statement line by line and thus type-checking is done on the fly, during execution. Hence, Python is a Dynamically Typed Language.</p>\n",
      "<p>An Interpreted language executes its statements line by line. Languages such as Python, Javascript, R, PHP, and Ruby are prime examples of Interpreted languages. Programs written in an interpreted language runs directly from the source code, with no intermediary compilation step.</p>\n",
      "<p>PEP stands for <strong>Python Enhancement Proposal</strong>. A PEP is an official design document providing information to the Python community, or describing a new feature for Python or its processes. <strong>PEP 8</strong> is especially important since it documents the style guidelines for Python Code. Apparently contributing to the Python open-source community requires you to follow these style guidelines sincerely and strictly.</p>\n",
      "<p>Every object in Python functions within a scope. A scope is a block of code where an object in Python remains relevant. Namespaces uniquely identify all the objects inside a program. However, these namespaces also have a scope defined for them where you could use their objects without any prefix. A few examples of scope created during code execution in Python are as follows:</p>\n",
      "<p><strong>Note:</strong> Local scope objects can be synced with global scope objects using keywords such as <strong>global</strong>.</p>\n",
      "<p><strong>Lists </strong>and <strong>Tuples</strong> are both s<strong>equence data types</strong> that can store a collection of objects in Python. The objects stored in both sequences can have <strong>different data types</strong>. Lists are represented with <strong>square brackets</strong> <code>['sara', 6, 0.19]</code>, while tuples are represented with <strong>parantheses</strong> <code>('ansh', 5, 0.97)</code>.<br/>But what is the real difference between the two? The key difference between the two is that while <strong>lists are mutable</strong>, <strong>tuples</strong> on the other hand are <strong>immutable</strong> objects. This means that lists can be modified, appended or sliced on the go but tuples remain constant and cannot be modified in any manner. You can run the following example on Python IDLE to confirm the difference:</p>\n",
      "<p>There are several built-in data types in Python. Although, Python doesn't require data types to be defined explicitly during variable declarations type errors are likely to occur if the knowledge of data types and their compatibility with each other are neglected. Python provides <code>type()</code> and <code>isinstance()</code> functions to check the type of these variables. These data types can be grouped into the following categories-</p>\n",
      "<p><i><strong>Note:</strong> The standard library also includes <strong>fractions</strong> to store rational numbers and <strong>decimal</strong> to store floating-point numbers with user-defined precision.</i></p>\n",
      "<p><strong>Note: </strong>The standard library also includes additional types for processing:<br/>1.<strong> Binary data </strong>such as <code>bytearray bytes</code> <code>memoryview</code> , and<br/>2.<strong> Text strings </strong>such as <code>str</code>.</p>\n",
      "<p>A mapping object can map hashable values to random objects in Python. Mappings objects are mutable and there is currently only one standard mapping type, the <i><strong>dictionary</strong></i>.</p>\n",
      "<p><i><strong>Note:</strong> </i><code><i>set</i></code><i> is mutable and thus cannot be used as key for a dictionary. On the other hand, </i><code><i>frozenset</i></code><i> is immutable and thus, hashable, and can be used as a dictionary key or as an element of another set.</i></p>\n",
      "<p>The <code>pass</code> keyword represents a null operation in Python. It is generally used for the purpose of filling up empty blocks of code which may execute during runtime but has yet to be written. Without the <strong>pass</strong> statement in the following code, we may run into some errors during code execution.</p>\n",
      "<p>Python packages and Python modules are two mechanisms that allow for <strong>modular programming</strong> in Python. Modularizing has several advantages -</p>\n",
      "<p><strong>Modules</strong>, in general, are simply Python files with a .py extension and can have a set of functions, classes, or variables defined and implemented. They can be imported and initialized once using the <code>import</code> statement. If partial functionality is needed, import the requisite classes or functions using <code>from foo import bar</code>.</p>\n",
      "<p><strong>Packages</strong> allow for hierarchial structuring of the module namespace using <strong>dot notation</strong>. As, <strong>modules</strong> help avoid clashes between global variable names, in a similar manner, <strong>packages</strong> help avoid clashes between module names.<br/>Creating a package is easy since it makes use of the system's inherent file structure. So just stuff the modules into a folder and there you have it, the folder name as the package name. Importing a module or its contents from this package requires the package name as prefix to the module name joined by a dot.</p>\n",
      "<p><i><strong>Note:</strong> You can technically import the package as well, but alas, it doesn't import the modules within the package to the local namespace, thus, it is practically useless.</i></p>\n",
      "<p><strong>Self </strong>is used to represent the instance of the class. With this keyword, you can access the attributes and methods of the class in python. It binds the attributes with the given arguments. self is used in different places and often thought to be a keyword. But unlike in C++, self is not a keyword in Python.</p>\n",
      "<p><code>__init__</code> is a contructor method in Python and is automatically called to allocate memory when a new object/instance is created. All classes have a <strong>__init__</strong> method associated with them. It helps in distinguishing methods and attributes of a class from local variables.</p>\n"
     ]
    }
   ],
   "source": [
    "for query_element in query_elements:\n",
    "    for tag in query_element.find_all('p'):\n",
    "        print(tag)"
   ]
  }
 ],
 "metadata": {
  "kernelspec": {
   "display_name": "generative",
   "language": "python",
   "name": "generative"
  },
  "language_info": {
   "codemirror_mode": {
    "name": "ipython",
    "version": 3
   },
   "file_extension": ".py",
   "mimetype": "text/x-python",
   "name": "python",
   "nbconvert_exporter": "python",
   "pygments_lexer": "ipython3",
   "version": "3.6.13"
  }
 },
 "nbformat": 4,
 "nbformat_minor": 5
}
