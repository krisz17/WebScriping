{
 "cells": [
  {
   "cell_type": "code",
   "execution_count": 1,
   "id": "3f217e67-4bc6-46c3-9b6f-5d014bc12f94",
   "metadata": {},
   "outputs": [],
   "source": [
    "#Importowanie biblioteki\n",
    "from selenium import webdriver\n",
    "from selenium.webdriver.common.by import By\n",
    "from selenium.webdriver.support.ui import WebDriverWait\n",
    "from selenium.webdriver.support import expected_conditions as EC\n",
    "\n",
    "#import pandas as pd\n",
    "\n",
    "\n",
    "# ustawiam lokalizację pliku chromedriver.exe kompaktybilnego z wersją chrome \n",
    "driver = webdriver.Chrome(executable_path=r\"C:\\WebDriver\\bin\\chromedriver.exe\")\n",
    "\n",
    "\n",
    "# wykonanie komendy \"get\", w tym wypadku analogicznie zadziałałoby requests.get()\n",
    "# w ten sposób nawigujemy obiekt driver do strony wskazanej przez adres URL\n",
    "driver.get('https://wroclaw.policja.gov.pl/dwr/form/159,Doba-w-liczbach.html?page=0')\n",
    "wait = WebDriverWait(driver, 10)\n",
    "wait.until(EC.presence_of_element_located((By.CLASS_NAME, \"table-listing\")))\n",
    "\n",
    "tabelka = driver.find_elements_by_class_name(\"table-listing\")"
   ]
  },
  {
   "cell_type": "code",
   "execution_count": 2,
   "id": "8fca6933-97f2-4e0c-992f-a1cea16a478d",
   "metadata": {},
   "outputs": [],
   "source": [
    "lines = tabelka[0].text.split('\\n')\n",
    "\n",
    "wynik = lines.copy()\n",
    "kol_names = lines[0]"
   ]
  },
  {
   "cell_type": "code",
   "execution_count": 15,
   "id": "676dd995-b39b-4ede-abcf-c569e5cee592",
   "metadata": {},
   "outputs": [
    {
     "data": {
      "text/plain": [
       "'Data Interwencje Zatrzymani na gorącym uczynku Poszukiwani (w tym nieletni) Wypadki drogowe Nietrzeźwi kierujący'"
      ]
     },
     "metadata": {},
     "output_type": "display_data"
    }
   ],
   "source": [
    "display(kol_names)"
   ]
  },
  {
   "cell_type": "code",
   "execution_count": 3,
   "id": "5a2eada4-1b72-42b7-8b61-2cd35719d89a",
   "metadata": {},
   "outputs": [],
   "source": [
    "lista = driver.find_elements_by_id(\"meni_strony\")\n"
   ]
  },
  {
   "cell_type": "code",
   "execution_count": 4,
   "id": "7c28b0af-6edb-4441-8fcf-ac803eda07da",
   "metadata": {},
   "outputs": [],
   "source": [
    "koniec = int(lista[0].text.split('\\n')[-3])\n",
    "#driver.quit()"
   ]
  },
  {
   "cell_type": "code",
   "execution_count": 6,
   "id": "1ee035f4-0b1e-4267-ab0e-fffc40573803",
   "metadata": {},
   "outputs": [
    {
     "name": "stdout",
     "output_type": "stream",
     "text": [
      "https://wroclaw.policja.gov.pl/dwr/form/159,Doba-w-liczbach.html?page=1\n",
      "https://wroclaw.policja.gov.pl/dwr/form/159,Doba-w-liczbach.html?page=2\n",
      "https://wroclaw.policja.gov.pl/dwr/form/159,Doba-w-liczbach.html?page=3\n",
      "https://wroclaw.policja.gov.pl/dwr/form/159,Doba-w-liczbach.html?page=4\n",
      "https://wroclaw.policja.gov.pl/dwr/form/159,Doba-w-liczbach.html?page=5\n",
      "https://wroclaw.policja.gov.pl/dwr/form/159,Doba-w-liczbach.html?page=6\n",
      "https://wroclaw.policja.gov.pl/dwr/form/159,Doba-w-liczbach.html?page=7\n",
      "https://wroclaw.policja.gov.pl/dwr/form/159,Doba-w-liczbach.html?page=8\n",
      "https://wroclaw.policja.gov.pl/dwr/form/159,Doba-w-liczbach.html?page=9\n",
      "https://wroclaw.policja.gov.pl/dwr/form/159,Doba-w-liczbach.html?page=10\n",
      "https://wroclaw.policja.gov.pl/dwr/form/159,Doba-w-liczbach.html?page=11\n",
      "https://wroclaw.policja.gov.pl/dwr/form/159,Doba-w-liczbach.html?page=12\n",
      "https://wroclaw.policja.gov.pl/dwr/form/159,Doba-w-liczbach.html?page=13\n",
      "https://wroclaw.policja.gov.pl/dwr/form/159,Doba-w-liczbach.html?page=14\n",
      "https://wroclaw.policja.gov.pl/dwr/form/159,Doba-w-liczbach.html?page=15\n",
      "https://wroclaw.policja.gov.pl/dwr/form/159,Doba-w-liczbach.html?page=16\n",
      "https://wroclaw.policja.gov.pl/dwr/form/159,Doba-w-liczbach.html?page=17\n",
      "https://wroclaw.policja.gov.pl/dwr/form/159,Doba-w-liczbach.html?page=18\n",
      "https://wroclaw.policja.gov.pl/dwr/form/159,Doba-w-liczbach.html?page=19\n",
      "https://wroclaw.policja.gov.pl/dwr/form/159,Doba-w-liczbach.html?page=20\n",
      "https://wroclaw.policja.gov.pl/dwr/form/159,Doba-w-liczbach.html?page=21\n",
      "https://wroclaw.policja.gov.pl/dwr/form/159,Doba-w-liczbach.html?page=22\n",
      "https://wroclaw.policja.gov.pl/dwr/form/159,Doba-w-liczbach.html?page=23\n",
      "https://wroclaw.policja.gov.pl/dwr/form/159,Doba-w-liczbach.html?page=24\n",
      "https://wroclaw.policja.gov.pl/dwr/form/159,Doba-w-liczbach.html?page=25\n",
      "https://wroclaw.policja.gov.pl/dwr/form/159,Doba-w-liczbach.html?page=26\n",
      "https://wroclaw.policja.gov.pl/dwr/form/159,Doba-w-liczbach.html?page=27\n",
      "https://wroclaw.policja.gov.pl/dwr/form/159,Doba-w-liczbach.html?page=28\n",
      "https://wroclaw.policja.gov.pl/dwr/form/159,Doba-w-liczbach.html?page=29\n",
      "https://wroclaw.policja.gov.pl/dwr/form/159,Doba-w-liczbach.html?page=30\n",
      "https://wroclaw.policja.gov.pl/dwr/form/159,Doba-w-liczbach.html?page=31\n",
      "https://wroclaw.policja.gov.pl/dwr/form/159,Doba-w-liczbach.html?page=32\n",
      "https://wroclaw.policja.gov.pl/dwr/form/159,Doba-w-liczbach.html?page=33\n",
      "https://wroclaw.policja.gov.pl/dwr/form/159,Doba-w-liczbach.html?page=34\n",
      "https://wroclaw.policja.gov.pl/dwr/form/159,Doba-w-liczbach.html?page=35\n",
      "https://wroclaw.policja.gov.pl/dwr/form/159,Doba-w-liczbach.html?page=36\n"
     ]
    }
   ],
   "source": [
    "for x in range(1, koniec):\n",
    "    print('https://wroclaw.policja.gov.pl/dwr/form/159,Doba-w-liczbach.html?page='+str(x))"
   ]
  },
  {
   "cell_type": "code",
   "execution_count": 5,
   "id": "d718af77-fd93-474e-87da-0171dc25cb0c",
   "metadata": {},
   "outputs": [],
   "source": [
    "# jest jakaś blokada na stronie uniemożliwiająca odputanie więcej niż 9x, po tym czasie należy przeładować stronkę\n",
    "for x in range(1, koniec):\n",
    "    #pętla w pętli: niestety coś blokuje co jakiś czas połączenie, rozłączenie i ponowne połączenie pomaga\n",
    "    if x % 6 == 0:\n",
    "        driver.quit()\n",
    "        driver = webdriver.Chrome(executable_path=r\"C:\\WebDriver\\bin\\chromedriver.exe\")\n",
    "    driver.get('https://wroclaw.policja.gov.pl/dwr/form/159,Doba-w-liczbach.html?page='+str(x))\n",
    "    wait = WebDriverWait(driver, 10)\n",
    "    wait.until(EC.presence_of_element_located((By.CLASS_NAME, \"table-listing\")))\n",
    "    tabelka = driver.find_elements_by_class_name(\"table-listing\")\n",
    "    lines = tabelka[0].text.split('\\n')\n",
    "    wynik.extend(lines[1:]) # polecenie append dodałoby całą listę jako jeden obiekt\n",
    "\n"
   ]
  },
  {
   "cell_type": "code",
   "execution_count": 11,
   "id": "35023b2c-72bf-444e-a18e-3192f0bb6d2a",
   "metadata": {},
   "outputs": [
    {
     "ename": "NameError",
     "evalue": "name 'heads' is not defined",
     "output_type": "error",
     "traceback": [
      "\u001b[1;31m---------------------------------------------------------------------------\u001b[0m",
      "\u001b[1;31mNameError\u001b[0m                                 Traceback (most recent call last)",
      "\u001b[1;32m<ipython-input-11-d0a43ba3a6ab>\u001b[0m in \u001b[0;36m<module>\u001b[1;34m\u001b[0m\n\u001b[1;32m----> 1\u001b[1;33m \u001b[0mheads\u001b[0m\u001b[1;33m(\u001b[0m\u001b[0mwynik\u001b[0m\u001b[1;33m)\u001b[0m\u001b[1;33m\u001b[0m\u001b[1;33m\u001b[0m\u001b[0m\n\u001b[0m",
      "\u001b[1;31mNameError\u001b[0m: name 'heads' is not defined"
     ]
    }
   ],
   "source": [
    "heads(wynik)"
   ]
  },
  {
   "cell_type": "code",
   "execution_count": 8,
   "id": "c679d5ec-93d3-479a-9d65-e2c13f7e6318",
   "metadata": {},
   "outputs": [
    {
     "data": {
      "text/plain": [
       "362"
      ]
     },
     "execution_count": 8,
     "metadata": {},
     "output_type": "execute_result"
    }
   ],
   "source": [
    "len(wynik)"
   ]
  },
  {
   "cell_type": "code",
   "execution_count": 9,
   "id": "0bde809d-b9a8-4a25-9165-065655285f5d",
   "metadata": {},
   "outputs": [
    {
     "data": {
      "text/plain": [
       "6"
      ]
     },
     "execution_count": 9,
     "metadata": {},
     "output_type": "execute_result"
    }
   ],
   "source": [
    "len(wynik[1].split(' '))"
   ]
  },
  {
   "cell_type": "code",
   "execution_count": 30,
   "id": "497ef80a-533b-41de-a635-daa0e48a4d94",
   "metadata": {},
   "outputs": [
    {
     "data": {
      "text/plain": [
       "['Data Interwencje Zatrzymani na gorącym uczynku Poszukiwani (w tym nieletni) Wypadki drogowe Nietrzeźwi kierujący',\n",
       " '2023-02-16 245 13 11 1 6',\n",
       " '2023-02-15 239 21 11 1 2',\n",
       " '2023-02-14 273 24 16 - -',\n",
       " '2023-02-13 322 23 9(2) 1 8',\n",
       " '2023-02-12 276 30 13 1 14',\n",
       " '2023-02-11 282 26 3 - 4',\n",
       " '2023-02-10 288 24 5(1) - 2',\n",
       " '2023-02-09 315 20 12(1) 1 3',\n",
       " '2023-02-08 284 23 12(1) - 4',\n",
       " '2023-02-07 259 23 13 2 2']"
      ]
     },
     "execution_count": 30,
     "metadata": {},
     "output_type": "execute_result"
    }
   ],
   "source": [
    "wynik"
   ]
  },
  {
   "cell_type": "code",
   "execution_count": 12,
   "id": "833bdbaa-e80b-485c-a7cd-953b630eebd6",
   "metadata": {},
   "outputs": [],
   "source": [
    "import pandas as pd\n",
    "\n",
    "#zainicjowanie obiektu DataFrame: nazwa kolumn oraz pierwszy element tabeli\n",
    "df = pd.DataFrame( [[x for x in wynik[1].split(' ')]], \n",
    "                  columns = ['Data', 'Interwencje', 'Zatrzymani_na_goracym_uczynku','Poszukiwani', 'Wypadki_drogowe', 'Nietrzezwi_kierujacy'])\n",
    "\n",
    "\n",
    "# zapakowanie pozostałych elementów \n",
    "for i in range(2,len(wynik)):\n",
    "    df = df.append(pd.Series(wynik[i].split(' '), index=df.columns), ignore_index=True)\n",
    "  "
   ]
  },
  {
   "cell_type": "code",
   "execution_count": 13,
   "id": "7b76f57b-ded4-4c66-90f8-b903c0fa8523",
   "metadata": {},
   "outputs": [
    {
     "data": {
      "text/html": [
       "<div>\n",
       "<style scoped>\n",
       "    .dataframe tbody tr th:only-of-type {\n",
       "        vertical-align: middle;\n",
       "    }\n",
       "\n",
       "    .dataframe tbody tr th {\n",
       "        vertical-align: top;\n",
       "    }\n",
       "\n",
       "    .dataframe thead th {\n",
       "        text-align: right;\n",
       "    }\n",
       "</style>\n",
       "<table border=\"1\" class=\"dataframe\">\n",
       "  <thead>\n",
       "    <tr style=\"text-align: right;\">\n",
       "      <th></th>\n",
       "      <th>Data</th>\n",
       "      <th>Interwencje</th>\n",
       "      <th>Zatrzymani_na_goracym_uczynku</th>\n",
       "      <th>Poszukiwani</th>\n",
       "      <th>Wypadki_drogowe</th>\n",
       "      <th>Nietrzezwi_kierujacy</th>\n",
       "    </tr>\n",
       "  </thead>\n",
       "  <tbody>\n",
       "    <tr>\n",
       "      <th>0</th>\n",
       "      <td>2023-02-16</td>\n",
       "      <td>245</td>\n",
       "      <td>13</td>\n",
       "      <td>11</td>\n",
       "      <td>1</td>\n",
       "      <td>6</td>\n",
       "    </tr>\n",
       "  </tbody>\n",
       "</table>\n",
       "</div>"
      ],
      "text/plain": [
       "         Data Interwencje Zatrzymani_na_goracym_uczynku Poszukiwani  \\\n",
       "0  2023-02-16         245                            13          11   \n",
       "\n",
       "  Wypadki_drogowe Nietrzezwi_kierujacy  \n",
       "0               1                    6  "
      ]
     },
     "execution_count": 13,
     "metadata": {},
     "output_type": "execute_result"
    }
   ],
   "source": [
    "df"
   ]
  },
  {
   "cell_type": "code",
   "execution_count": 15,
   "id": "06adc0db-3b1a-4307-b16a-4267a1275251",
   "metadata": {},
   "outputs": [],
   "source": [
    "  \n",
    "    \n"
   ]
  },
  {
   "cell_type": "code",
   "execution_count": 22,
   "id": "4c88b857-437e-4348-915c-25af8e58bd6a",
   "metadata": {},
   "outputs": [
    {
     "data": {
      "text/html": [
       "<div>\n",
       "<style scoped>\n",
       "    .dataframe tbody tr th:only-of-type {\n",
       "        vertical-align: middle;\n",
       "    }\n",
       "\n",
       "    .dataframe tbody tr th {\n",
       "        vertical-align: top;\n",
       "    }\n",
       "\n",
       "    .dataframe thead th {\n",
       "        text-align: right;\n",
       "    }\n",
       "</style>\n",
       "<table border=\"1\" class=\"dataframe\">\n",
       "  <thead>\n",
       "    <tr style=\"text-align: right;\">\n",
       "      <th></th>\n",
       "      <th>Data</th>\n",
       "      <th>Interwencje</th>\n",
       "      <th>Zatrzymani_na_goracym_uczynku</th>\n",
       "      <th>Poszukiwani</th>\n",
       "      <th>Wypadki_drogowe</th>\n",
       "      <th>Nietrzezwi_kierujacy</th>\n",
       "    </tr>\n",
       "  </thead>\n",
       "  <tbody>\n",
       "    <tr>\n",
       "      <th>0</th>\n",
       "      <td>2023-02-16</td>\n",
       "      <td>245</td>\n",
       "      <td>13</td>\n",
       "      <td>11</td>\n",
       "      <td>1</td>\n",
       "      <td>6</td>\n",
       "    </tr>\n",
       "    <tr>\n",
       "      <th>1</th>\n",
       "      <td>2023-02-15</td>\n",
       "      <td>239</td>\n",
       "      <td>21</td>\n",
       "      <td>11</td>\n",
       "      <td>1</td>\n",
       "      <td>2</td>\n",
       "    </tr>\n",
       "    <tr>\n",
       "      <th>2</th>\n",
       "      <td>2023-02-14</td>\n",
       "      <td>273</td>\n",
       "      <td>24</td>\n",
       "      <td>16</td>\n",
       "      <td>-</td>\n",
       "      <td>-</td>\n",
       "    </tr>\n",
       "    <tr>\n",
       "      <th>3</th>\n",
       "      <td>2023-02-13</td>\n",
       "      <td>322</td>\n",
       "      <td>23</td>\n",
       "      <td>9(2)</td>\n",
       "      <td>1</td>\n",
       "      <td>8</td>\n",
       "    </tr>\n",
       "    <tr>\n",
       "      <th>4</th>\n",
       "      <td>2023-02-12</td>\n",
       "      <td>276</td>\n",
       "      <td>30</td>\n",
       "      <td>13</td>\n",
       "      <td>1</td>\n",
       "      <td>14</td>\n",
       "    </tr>\n",
       "    <tr>\n",
       "      <th>5</th>\n",
       "      <td>2023-02-11</td>\n",
       "      <td>282</td>\n",
       "      <td>26</td>\n",
       "      <td>3</td>\n",
       "      <td>-</td>\n",
       "      <td>4</td>\n",
       "    </tr>\n",
       "    <tr>\n",
       "      <th>6</th>\n",
       "      <td>2023-02-10</td>\n",
       "      <td>288</td>\n",
       "      <td>24</td>\n",
       "      <td>5(1)</td>\n",
       "      <td>-</td>\n",
       "      <td>2</td>\n",
       "    </tr>\n",
       "    <tr>\n",
       "      <th>7</th>\n",
       "      <td>2023-02-09</td>\n",
       "      <td>315</td>\n",
       "      <td>20</td>\n",
       "      <td>12(1)</td>\n",
       "      <td>1</td>\n",
       "      <td>3</td>\n",
       "    </tr>\n",
       "    <tr>\n",
       "      <th>8</th>\n",
       "      <td>2023-02-08</td>\n",
       "      <td>284</td>\n",
       "      <td>23</td>\n",
       "      <td>12(1)</td>\n",
       "      <td>-</td>\n",
       "      <td>4</td>\n",
       "    </tr>\n",
       "    <tr>\n",
       "      <th>9</th>\n",
       "      <td>2023-02-07</td>\n",
       "      <td>259</td>\n",
       "      <td>23</td>\n",
       "      <td>13</td>\n",
       "      <td>2</td>\n",
       "      <td>2</td>\n",
       "    </tr>\n",
       "  </tbody>\n",
       "</table>\n",
       "</div>"
      ],
      "text/plain": [
       "         Data Interwencje Zatrzymani_na_goracym_uczynku Poszukiwani  \\\n",
       "0  2023-02-16         245                            13          11   \n",
       "1  2023-02-15         239                            21          11   \n",
       "2  2023-02-14         273                            24          16   \n",
       "3  2023-02-13         322                            23        9(2)   \n",
       "4  2023-02-12         276                            30          13   \n",
       "5  2023-02-11         282                            26           3   \n",
       "6  2023-02-10         288                            24        5(1)   \n",
       "7  2023-02-09         315                            20       12(1)   \n",
       "8  2023-02-08         284                            23       12(1)   \n",
       "9  2023-02-07         259                            23          13   \n",
       "\n",
       "  Wypadki_drogowe Nietrzezwi_kierujacy  \n",
       "0               1                    6  \n",
       "1               1                    2  \n",
       "2               -                    -  \n",
       "3               1                    8  \n",
       "4               1                   14  \n",
       "5               -                    4  \n",
       "6               -                    2  \n",
       "7               1                    3  \n",
       "8               -                    4  \n",
       "9               2                    2  "
      ]
     },
     "execution_count": 22,
     "metadata": {},
     "output_type": "execute_result"
    }
   ],
   "source": [
    "df.head(10)\n",
    "# należy zmodyfikować kolumny Wypadki_drogowe oraz Nietrzezwi_kierujacy podmieniając - na 0 \n",
    "\n"
   ]
  },
  {
   "cell_type": "code",
   "execution_count": 23,
   "id": "806ee875-1814-4905-9cdb-4f5ffb98c4be",
   "metadata": {},
   "outputs": [
    {
     "data": {
      "text/html": [
       "<div>\n",
       "<style scoped>\n",
       "    .dataframe tbody tr th:only-of-type {\n",
       "        vertical-align: middle;\n",
       "    }\n",
       "\n",
       "    .dataframe tbody tr th {\n",
       "        vertical-align: top;\n",
       "    }\n",
       "\n",
       "    .dataframe thead th {\n",
       "        text-align: right;\n",
       "    }\n",
       "</style>\n",
       "<table border=\"1\" class=\"dataframe\">\n",
       "  <thead>\n",
       "    <tr style=\"text-align: right;\">\n",
       "      <th></th>\n",
       "      <th>Data</th>\n",
       "      <th>Interwencje</th>\n",
       "      <th>Zatrzymani_na_goracym_uczynku</th>\n",
       "      <th>Poszukiwani</th>\n",
       "      <th>Wypadki_drogowe</th>\n",
       "      <th>Nietrzezwi_kierujacy</th>\n",
       "    </tr>\n",
       "  </thead>\n",
       "  <tbody>\n",
       "    <tr>\n",
       "      <th>0</th>\n",
       "      <td>2023-02-16</td>\n",
       "      <td>245</td>\n",
       "      <td>13</td>\n",
       "      <td>11</td>\n",
       "      <td>1</td>\n",
       "      <td>6</td>\n",
       "    </tr>\n",
       "    <tr>\n",
       "      <th>1</th>\n",
       "      <td>2023-02-15</td>\n",
       "      <td>239</td>\n",
       "      <td>21</td>\n",
       "      <td>11</td>\n",
       "      <td>1</td>\n",
       "      <td>2</td>\n",
       "    </tr>\n",
       "    <tr>\n",
       "      <th>2</th>\n",
       "      <td>2023-02-14</td>\n",
       "      <td>273</td>\n",
       "      <td>24</td>\n",
       "      <td>16</td>\n",
       "      <td>0</td>\n",
       "      <td>0</td>\n",
       "    </tr>\n",
       "    <tr>\n",
       "      <th>3</th>\n",
       "      <td>2023-02-13</td>\n",
       "      <td>322</td>\n",
       "      <td>23</td>\n",
       "      <td>9(2)</td>\n",
       "      <td>1</td>\n",
       "      <td>8</td>\n",
       "    </tr>\n",
       "    <tr>\n",
       "      <th>4</th>\n",
       "      <td>2023-02-12</td>\n",
       "      <td>276</td>\n",
       "      <td>30</td>\n",
       "      <td>13</td>\n",
       "      <td>1</td>\n",
       "      <td>14</td>\n",
       "    </tr>\n",
       "    <tr>\n",
       "      <th>5</th>\n",
       "      <td>2023-02-11</td>\n",
       "      <td>282</td>\n",
       "      <td>26</td>\n",
       "      <td>3</td>\n",
       "      <td>0</td>\n",
       "      <td>4</td>\n",
       "    </tr>\n",
       "    <tr>\n",
       "      <th>6</th>\n",
       "      <td>2023-02-10</td>\n",
       "      <td>288</td>\n",
       "      <td>24</td>\n",
       "      <td>5(1)</td>\n",
       "      <td>0</td>\n",
       "      <td>2</td>\n",
       "    </tr>\n",
       "    <tr>\n",
       "      <th>7</th>\n",
       "      <td>2023-02-09</td>\n",
       "      <td>315</td>\n",
       "      <td>20</td>\n",
       "      <td>12(1)</td>\n",
       "      <td>1</td>\n",
       "      <td>3</td>\n",
       "    </tr>\n",
       "    <tr>\n",
       "      <th>8</th>\n",
       "      <td>2023-02-08</td>\n",
       "      <td>284</td>\n",
       "      <td>23</td>\n",
       "      <td>12(1)</td>\n",
       "      <td>0</td>\n",
       "      <td>4</td>\n",
       "    </tr>\n",
       "    <tr>\n",
       "      <th>9</th>\n",
       "      <td>2023-02-07</td>\n",
       "      <td>259</td>\n",
       "      <td>23</td>\n",
       "      <td>13</td>\n",
       "      <td>2</td>\n",
       "      <td>2</td>\n",
       "    </tr>\n",
       "  </tbody>\n",
       "</table>\n",
       "</div>"
      ],
      "text/plain": [
       "         Data Interwencje Zatrzymani_na_goracym_uczynku Poszukiwani  \\\n",
       "0  2023-02-16         245                            13          11   \n",
       "1  2023-02-15         239                            21          11   \n",
       "2  2023-02-14         273                            24          16   \n",
       "3  2023-02-13         322                            23        9(2)   \n",
       "4  2023-02-12         276                            30          13   \n",
       "5  2023-02-11         282                            26           3   \n",
       "6  2023-02-10         288                            24        5(1)   \n",
       "7  2023-02-09         315                            20       12(1)   \n",
       "8  2023-02-08         284                            23       12(1)   \n",
       "9  2023-02-07         259                            23          13   \n",
       "\n",
       "  Wypadki_drogowe Nietrzezwi_kierujacy  \n",
       "0               1                    6  \n",
       "1               1                    2  \n",
       "2               0                    0  \n",
       "3               1                    8  \n",
       "4               1                   14  \n",
       "5               0                    4  \n",
       "6               0                    2  \n",
       "7               1                    3  \n",
       "8               0                    4  \n",
       "9               2                    2  "
      ]
     },
     "execution_count": 23,
     "metadata": {},
     "output_type": "execute_result"
    }
   ],
   "source": [
    "df['Wypadki_drogowe'] = df['Wypadki_drogowe'].replace('-', '0')\n",
    "df['Nietrzezwi_kierujacy'] = df['Nietrzezwi_kierujacy'].replace('-', '0')\n",
    "\n",
    "df.head(10)"
   ]
  },
  {
   "cell_type": "code",
   "execution_count": 24,
   "id": "f5bbfcb4-fb92-46a9-a2e2-d5daf514d320",
   "metadata": {},
   "outputs": [
    {
     "name": "stdout",
     "output_type": "stream",
     "text": [
      "[('0', 4), ('1', 14), ('10', 11), ('11', 21), ('12', 11), ('13', 7), ('14', 8), ('15', 4), ('16', 2), ('18', 2), ('2', 27), ('3', 42), ('4', 42), ('5', 38), ('6', 47), ('7', 26), ('8', 34), ('9', 21)]\n"
     ]
    }
   ],
   "source": [
    "from collections import Counter\n",
    "print(sorted(Counter(df['Nietrzezwi_kierujacy']).items()))"
   ]
  },
  {
   "cell_type": "code",
   "execution_count": 25,
   "id": "7ee6f382-7482-4211-a7a2-7cbc77b4c6d9",
   "metadata": {},
   "outputs": [
    {
     "name": "stdout",
     "output_type": "stream",
     "text": [
      "[('0', 33), ('1', 79), ('2', 86), ('3', 69), ('4', 39), ('5', 35), ('6', 15), ('7', 5)]\n"
     ]
    }
   ],
   "source": [
    "from collections import Counter\n",
    "print(sorted(Counter(df['Wypadki_drogowe']).items()))"
   ]
  },
  {
   "cell_type": "code",
   "execution_count": 31,
   "id": "5d19f720-69c1-42d7-9ffa-7cccfed4ea7a",
   "metadata": {},
   "outputs": [],
   "source": [
    "# konwertuję typ danych na int\n",
    "\n",
    "df['Wypadki_drogowe'] = df['Wypadki_drogowe'].astype(int)\n",
    "df['Nietrzezwi_kierujacy'] = df['Nietrzezwi_kierujacy'].astype(int)\n",
    "df['Interwencje'] = df['Interwencje'].astype(int)\n",
    "df['Zatrzymani_na_goracym_uczynku'] = df['Zatrzymani_na_goracym_uczynku'].astype(int)\n"
   ]
  },
  {
   "cell_type": "code",
   "execution_count": 29,
   "id": "02c1735a-2c13-4c18-9da4-3b6afa48c8b2",
   "metadata": {},
   "outputs": [
    {
     "data": {
      "text/plain": [
       "<matplotlib.axes._subplots.AxesSubplot at 0x263d00d90f0>"
      ]
     },
     "execution_count": 29,
     "metadata": {},
     "output_type": "execute_result"
    },
    {
     "data": {
      "image/png": "[encoded data removed]",
      "text/plain": [
       "<Figure size 432x288 with 1 Axes>"
      ]
     },
     "metadata": {
      "needs_background": "light"
     },
     "output_type": "display_data"
    }
   ],
   "source": [
    "df['Wypadki_drogowe'].hist()"
   ]
  },
  {
   "cell_type": "code",
   "execution_count": 30,
   "id": "ac203bc9-6136-4e90-b799-fc549c1229c5",
   "metadata": {},
   "outputs": [
    {
     "data": {
      "text/plain": [
       "<matplotlib.axes._subplots.AxesSubplot at 0x263d0162898>"
      ]
     },
     "execution_count": 30,
     "metadata": {},
     "output_type": "execute_result"
    },
    {
     "data": {
      "image/png": "[encoded data removed]",
      "text/plain": [
       "<Figure size 432x288 with 1 Axes>"
      ]
     },
     "metadata": {
      "needs_background": "light"
     },
     "output_type": "display_data"
    }
   ],
   "source": [
    "df['Nietrzezwi_kierujacy'].hist()"
   ]
  },
  {
   "cell_type": "code",
   "execution_count": 53,
   "id": "b5137aa7-f937-4751-be9e-8091e62411c8",
   "metadata": {},
   "outputs": [],
   "source": [
    "tmp_df = pd.DataFrame(columns=[\"Poszukiwani_total\", \"Poszukiwani_nieletni\"])"
   ]
  },
  {
   "cell_type": "code",
   "execution_count": 56,
   "id": "fb4c0e2b-f3db-4fa1-84ba-266e723a74d2",
   "metadata": {},
   "outputs": [],
   "source": [
    "# na koniec trzeba rozdzielić kolumnę poszukiwani na poszukiwani_total oraz poszukiwani_nieletni\n",
    "tmp_df = pd.DataFrame(columns=['Poszukiwani_total', 'Poszukiwani_nieletni'])\n",
    "\n",
    "for i in range(len(df['Poszukiwani'])):\n",
    "    tmp = df['Poszukiwani'][i].split('(')\n",
    "    tmp = [x.replace(')','') for x in tmp]\n",
    "    # uzupełniam jeżeli nie było nieletnich poszukiwanych\n",
    "    if len(tmp) < 2:\n",
    "        tmp.append('0')\n",
    "    tmp = [int(x) for x in tmp]\n",
    "    tmp_df = tmp_df.append(pd.Series(tmp, index=tmp_df.columns), ignore_index=True)\n",
    "\n",
    "df['Poszukiwani_total'] = tmp_df['Poszukiwani_total']\n",
    "df['Poszukiwani_nieletni'] = tmp_df['Poszukiwani_nieletni']\n"
   ]
  },
  {
   "cell_type": "code",
   "execution_count": 58,
   "id": "0081063a-3b73-4e36-b1a6-3420d3049d7a",
   "metadata": {},
   "outputs": [],
   "source": [
    "df['Poszukiwani_total'] = tmp_df['Poszukiwani_total']\n",
    "df['Poszukiwani_nieletni'] = tmp_df['Poszukiwani_nieletni']\n"
   ]
  },
  {
   "cell_type": "code",
   "execution_count": 60,
   "id": "6fac9112-4c1e-4c85-bc09-56337e943c62",
   "metadata": {},
   "outputs": [
    {
     "data": {
      "text/html": [
       "<div>\n",
       "<style scoped>\n",
       "    .dataframe tbody tr th:only-of-type {\n",
       "        vertical-align: middle;\n",
       "    }\n",
       "\n",
       "    .dataframe tbody tr th {\n",
       "        vertical-align: top;\n",
       "    }\n",
       "\n",
       "    .dataframe thead th {\n",
       "        text-align: right;\n",
       "    }\n",
       "</style>\n",
       "<table border=\"1\" class=\"dataframe\">\n",
       "  <thead>\n",
       "    <tr style=\"text-align: right;\">\n",
       "      <th></th>\n",
       "      <th>Data</th>\n",
       "      <th>Interwencje</th>\n",
       "      <th>Zatrzymani_na_goracym_uczynku</th>\n",
       "      <th>Poszukiwani</th>\n",
       "      <th>Wypadki_drogowe</th>\n",
       "      <th>Nietrzezwi_kierujacy</th>\n",
       "      <th>Poszukiwani_total</th>\n",
       "      <th>Poszukiwani_nieletni</th>\n",
       "    </tr>\n",
       "  </thead>\n",
       "  <tbody>\n",
       "    <tr>\n",
       "      <th>0</th>\n",
       "      <td>2023-02-16</td>\n",
       "      <td>245</td>\n",
       "      <td>13</td>\n",
       "      <td>11</td>\n",
       "      <td>1</td>\n",
       "      <td>6</td>\n",
       "      <td>11</td>\n",
       "      <td>0</td>\n",
       "    </tr>\n",
       "    <tr>\n",
       "      <th>1</th>\n",
       "      <td>2023-02-15</td>\n",
       "      <td>239</td>\n",
       "      <td>21</td>\n",
       "      <td>11</td>\n",
       "      <td>1</td>\n",
       "      <td>2</td>\n",
       "      <td>11</td>\n",
       "      <td>0</td>\n",
       "    </tr>\n",
       "    <tr>\n",
       "      <th>2</th>\n",
       "      <td>2023-02-14</td>\n",
       "      <td>273</td>\n",
       "      <td>24</td>\n",
       "      <td>16</td>\n",
       "      <td>0</td>\n",
       "      <td>0</td>\n",
       "      <td>16</td>\n",
       "      <td>0</td>\n",
       "    </tr>\n",
       "    <tr>\n",
       "      <th>3</th>\n",
       "      <td>2023-02-13</td>\n",
       "      <td>322</td>\n",
       "      <td>23</td>\n",
       "      <td>9(2)</td>\n",
       "      <td>1</td>\n",
       "      <td>8</td>\n",
       "      <td>9</td>\n",
       "      <td>2</td>\n",
       "    </tr>\n",
       "    <tr>\n",
       "      <th>4</th>\n",
       "      <td>2023-02-12</td>\n",
       "      <td>276</td>\n",
       "      <td>30</td>\n",
       "      <td>13</td>\n",
       "      <td>1</td>\n",
       "      <td>14</td>\n",
       "      <td>13</td>\n",
       "      <td>0</td>\n",
       "    </tr>\n",
       "    <tr>\n",
       "      <th>5</th>\n",
       "      <td>2023-02-11</td>\n",
       "      <td>282</td>\n",
       "      <td>26</td>\n",
       "      <td>3</td>\n",
       "      <td>0</td>\n",
       "      <td>4</td>\n",
       "      <td>3</td>\n",
       "      <td>0</td>\n",
       "    </tr>\n",
       "    <tr>\n",
       "      <th>6</th>\n",
       "      <td>2023-02-10</td>\n",
       "      <td>288</td>\n",
       "      <td>24</td>\n",
       "      <td>5(1)</td>\n",
       "      <td>0</td>\n",
       "      <td>2</td>\n",
       "      <td>5</td>\n",
       "      <td>1</td>\n",
       "    </tr>\n",
       "    <tr>\n",
       "      <th>7</th>\n",
       "      <td>2023-02-09</td>\n",
       "      <td>315</td>\n",
       "      <td>20</td>\n",
       "      <td>12(1)</td>\n",
       "      <td>1</td>\n",
       "      <td>3</td>\n",
       "      <td>12</td>\n",
       "      <td>1</td>\n",
       "    </tr>\n",
       "    <tr>\n",
       "      <th>8</th>\n",
       "      <td>2023-02-08</td>\n",
       "      <td>284</td>\n",
       "      <td>23</td>\n",
       "      <td>12(1)</td>\n",
       "      <td>0</td>\n",
       "      <td>4</td>\n",
       "      <td>12</td>\n",
       "      <td>1</td>\n",
       "    </tr>\n",
       "    <tr>\n",
       "      <th>9</th>\n",
       "      <td>2023-02-07</td>\n",
       "      <td>259</td>\n",
       "      <td>23</td>\n",
       "      <td>13</td>\n",
       "      <td>2</td>\n",
       "      <td>2</td>\n",
       "      <td>13</td>\n",
       "      <td>0</td>\n",
       "    </tr>\n",
       "  </tbody>\n",
       "</table>\n",
       "</div>"
      ],
      "text/plain": [
       "         Data  Interwencje  Zatrzymani_na_goracym_uczynku Poszukiwani  \\\n",
       "0  2023-02-16          245                             13          11   \n",
       "1  2023-02-15          239                             21          11   \n",
       "2  2023-02-14          273                             24          16   \n",
       "3  2023-02-13          322                             23        9(2)   \n",
       "4  2023-02-12          276                             30          13   \n",
       "5  2023-02-11          282                             26           3   \n",
       "6  2023-02-10          288                             24        5(1)   \n",
       "7  2023-02-09          315                             20       12(1)   \n",
       "8  2023-02-08          284                             23       12(1)   \n",
       "9  2023-02-07          259                             23          13   \n",
       "\n",
       "   Wypadki_drogowe  Nietrzezwi_kierujacy Poszukiwani_total  \\\n",
       "0                1                     6                11   \n",
       "1                1                     2                11   \n",
       "2                0                     0                16   \n",
       "3                1                     8                 9   \n",
       "4                1                    14                13   \n",
       "5                0                     4                 3   \n",
       "6                0                     2                 5   \n",
       "7                1                     3                12   \n",
       "8                0                     4                12   \n",
       "9                2                     2                13   \n",
       "\n",
       "  Poszukiwani_nieletni  \n",
       "0                    0  \n",
       "1                    0  \n",
       "2                    0  \n",
       "3                    2  \n",
       "4                    0  \n",
       "5                    0  \n",
       "6                    1  \n",
       "7                    1  \n",
       "8                    1  \n",
       "9                    0  "
      ]
     },
     "execution_count": 60,
     "metadata": {},
     "output_type": "execute_result"
    }
   ],
   "source": [
    "df.head(10)"
   ]
  },
  {
   "cell_type": "code",
   "execution_count": 61,
   "id": "c602b808-381b-45aa-b2e0-4583b5bbd937",
   "metadata": {},
   "outputs": [],
   "source": [
    "df.drop('Poszukiwani', axis=1, inplace=True)"
   ]
  },
  {
   "cell_type": "code",
   "execution_count": 62,
   "id": "11e7531b-c910-47ab-952b-f35dfde57401",
   "metadata": {},
   "outputs": [
    {
     "data": {
      "text/html": [
       "<div>\n",
       "<style scoped>\n",
       "    .dataframe tbody tr th:only-of-type {\n",
       "        vertical-align: middle;\n",
       "    }\n",
       "\n",
       "    .dataframe tbody tr th {\n",
       "        vertical-align: top;\n",
       "    }\n",
       "\n",
       "    .dataframe thead th {\n",
       "        text-align: right;\n",
       "    }\n",
       "</style>\n",
       "<table border=\"1\" class=\"dataframe\">\n",
       "  <thead>\n",
       "    <tr style=\"text-align: right;\">\n",
       "      <th></th>\n",
       "      <th>Data</th>\n",
       "      <th>Interwencje</th>\n",
       "      <th>Zatrzymani_na_goracym_uczynku</th>\n",
       "      <th>Wypadki_drogowe</th>\n",
       "      <th>Nietrzezwi_kierujacy</th>\n",
       "      <th>Poszukiwani_total</th>\n",
       "      <th>Poszukiwani_nieletni</th>\n",
       "    </tr>\n",
       "  </thead>\n",
       "  <tbody>\n",
       "    <tr>\n",
       "      <th>0</th>\n",
       "      <td>2023-02-16</td>\n",
       "      <td>245</td>\n",
       "      <td>13</td>\n",
       "      <td>1</td>\n",
       "      <td>6</td>\n",
       "      <td>11</td>\n",
       "      <td>0</td>\n",
       "    </tr>\n",
       "    <tr>\n",
       "      <th>1</th>\n",
       "      <td>2023-02-15</td>\n",
       "      <td>239</td>\n",
       "      <td>21</td>\n",
       "      <td>1</td>\n",
       "      <td>2</td>\n",
       "      <td>11</td>\n",
       "      <td>0</td>\n",
       "    </tr>\n",
       "    <tr>\n",
       "      <th>2</th>\n",
       "      <td>2023-02-14</td>\n",
       "      <td>273</td>\n",
       "      <td>24</td>\n",
       "      <td>0</td>\n",
       "      <td>0</td>\n",
       "      <td>16</td>\n",
       "      <td>0</td>\n",
       "    </tr>\n",
       "    <tr>\n",
       "      <th>3</th>\n",
       "      <td>2023-02-13</td>\n",
       "      <td>322</td>\n",
       "      <td>23</td>\n",
       "      <td>1</td>\n",
       "      <td>8</td>\n",
       "      <td>9</td>\n",
       "      <td>2</td>\n",
       "    </tr>\n",
       "    <tr>\n",
       "      <th>4</th>\n",
       "      <td>2023-02-12</td>\n",
       "      <td>276</td>\n",
       "      <td>30</td>\n",
       "      <td>1</td>\n",
       "      <td>14</td>\n",
       "      <td>13</td>\n",
       "      <td>0</td>\n",
       "    </tr>\n",
       "    <tr>\n",
       "      <th>5</th>\n",
       "      <td>2023-02-11</td>\n",
       "      <td>282</td>\n",
       "      <td>26</td>\n",
       "      <td>0</td>\n",
       "      <td>4</td>\n",
       "      <td>3</td>\n",
       "      <td>0</td>\n",
       "    </tr>\n",
       "    <tr>\n",
       "      <th>6</th>\n",
       "      <td>2023-02-10</td>\n",
       "      <td>288</td>\n",
       "      <td>24</td>\n",
       "      <td>0</td>\n",
       "      <td>2</td>\n",
       "      <td>5</td>\n",
       "      <td>1</td>\n",
       "    </tr>\n",
       "    <tr>\n",
       "      <th>7</th>\n",
       "      <td>2023-02-09</td>\n",
       "      <td>315</td>\n",
       "      <td>20</td>\n",
       "      <td>1</td>\n",
       "      <td>3</td>\n",
       "      <td>12</td>\n",
       "      <td>1</td>\n",
       "    </tr>\n",
       "    <tr>\n",
       "      <th>8</th>\n",
       "      <td>2023-02-08</td>\n",
       "      <td>284</td>\n",
       "      <td>23</td>\n",
       "      <td>0</td>\n",
       "      <td>4</td>\n",
       "      <td>12</td>\n",
       "      <td>1</td>\n",
       "    </tr>\n",
       "    <tr>\n",
       "      <th>9</th>\n",
       "      <td>2023-02-07</td>\n",
       "      <td>259</td>\n",
       "      <td>23</td>\n",
       "      <td>2</td>\n",
       "      <td>2</td>\n",
       "      <td>13</td>\n",
       "      <td>0</td>\n",
       "    </tr>\n",
       "  </tbody>\n",
       "</table>\n",
       "</div>"
      ],
      "text/plain": [
       "         Data  Interwencje  Zatrzymani_na_goracym_uczynku  Wypadki_drogowe  \\\n",
       "0  2023-02-16          245                             13                1   \n",
       "1  2023-02-15          239                             21                1   \n",
       "2  2023-02-14          273                             24                0   \n",
       "3  2023-02-13          322                             23                1   \n",
       "4  2023-02-12          276                             30                1   \n",
       "5  2023-02-11          282                             26                0   \n",
       "6  2023-02-10          288                             24                0   \n",
       "7  2023-02-09          315                             20                1   \n",
       "8  2023-02-08          284                             23                0   \n",
       "9  2023-02-07          259                             23                2   \n",
       "\n",
       "   Nietrzezwi_kierujacy Poszukiwani_total Poszukiwani_nieletni  \n",
       "0                     6                11                    0  \n",
       "1                     2                11                    0  \n",
       "2                     0                16                    0  \n",
       "3                     8                 9                    2  \n",
       "4                    14                13                    0  \n",
       "5                     4                 3                    0  \n",
       "6                     2                 5                    1  \n",
       "7                     3                12                    1  \n",
       "8                     4                12                    1  \n",
       "9                     2                13                    0  "
      ]
     },
     "execution_count": 62,
     "metadata": {},
     "output_type": "execute_result"
    }
   ],
   "source": [
    "df.head(10)"
   ]
  },
  {
   "cell_type": "code",
   "execution_count": 1,
   "id": "2b97afd8-7e92-4d1d-9001-29594399f7ab",
   "metadata": {},
   "outputs": [],
   "source": [
    "import pandas as pd\n",
    "tmp_df = pd.DataFrame(columns=['Poszukiwani_total', 'Poszukiwani_nieletni'])"
   ]
  },
  {
   "cell_type": "code",
   "execution_count": 6,
   "id": "5e614a20-8dc0-45b2-a0d4-bdc42e5167b4",
   "metadata": {},
   "outputs": [
    {
     "data": {
      "text/plain": [
       "['Poszukiwani_total', 'Poszukiwani_nieletni']"
      ]
     },
     "execution_count": 6,
     "metadata": {},
     "output_type": "execute_result"
    }
   ],
   "source": [
    "list(tmp_df.columns)"
   ]
  }
 ],
 "metadata": {
  "kernelspec": {
   "display_name": "generative",
   "language": "python",
   "name": "generative"
  },
  "language_info": {
   "codemirror_mode": {
    "name": "ipython",
    "version": 3
   },
   "file_extension": ".py",
   "mimetype": "text/x-python",
   "name": "python",
   "nbconvert_exporter": "python",
   "pygments_lexer": "ipython3",
   "version": "3.6.13"
  }
 },
 "nbformat": 4,
 "nbformat_minor": 5
}
